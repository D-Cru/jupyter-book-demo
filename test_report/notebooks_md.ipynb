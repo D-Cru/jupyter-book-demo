{
 "cells": [
  {
   "cell_type": "markdown",
   "metadata": {},
   "source": [
    "# MD related things."
   ]
  },
  {
   "cell_type": "code",
   "execution_count": null,
   "metadata": {},
   "outputs": [],
   "source": [
    "import nglview\n",
    "view = nglview.show_pdbid(\"3pqr\")  # load \"3pqr\" from RCSB PDB and display viewer widget\n",
    "view"
   ]
  },
  {
   "cell_type": "code",
   "execution_count": null,
   "metadata": {},
   "outputs": [],
   "source": [
    "from IPython.core.display import display, HTML\n",
    "display(HTML('''<script src=\"https://3Dmol.org/build/3Dmol-min.js\" async></script>     \n",
    "         <div style=\"height: 400px; width: 400px; position: relative;\" class='viewer_3Dmoljs' data-pdb='2POR' data-backgroundcolor='0xffffff' data-style='stick'></div>'''))"
   ]
  },
  {
   "cell_type": "code",
   "execution_count": null,
   "metadata": {},
   "outputs": [],
   "source": [
    "from IPython.core.display import display, HTML\n",
    "display(HTML('''<script src=\"https://3Dmol.org/build/3Dmol-min.js\" async></script>     \n",
    "         <div style=\"height: 400px; width: 400px; position: relative;\" class='viewer_3Dmoljs' data-href ='pdbs/clusters.pdb' data-backgroundcolor='0xffffff' data-style='stick'></div>'''))"
   ]
  },
  {
   "cell_type": "code",
   "execution_count": null,
   "metadata": {},
   "outputs": [],
   "source": [
    "!ls"
   ]
  },
  {
   "cell_type": "code",
   "execution_count": null,
   "metadata": {},
   "outputs": [],
   "source": [
    "from IPython.core.display import display, HTML\n",
    "display(HTML('''  <script src=\"https://unpkg.com/ngl\"></script>\n",
    "  <script>\n",
    "    document.addEventListener(\"DOMContentLoaded\", function () {\n",
    "      var stage = new NGL.Stage(\"viewport\");\n",
    "      stage.loadFile(\"file://pdbs/clusters.pdb\", {defaultRepresentation: true});\n",
    "    });\n",
    "  </script>\n",
    "  <div id=\"viewport\" style=\"width:400px; height:300px;\"></div>'''))"
   ]
  },
  {
   "cell_type": "code",
   "execution_count": null,
   "metadata": {},
   "outputs": [],
   "source": [
    "from IPython.core.display import display, HTML\n",
    "display(HTML('''  <script src=\"https://unpkg.com/ngl\"></script>\n",
    "  <script>\n",
    "    document.addEventListener(\"DOMContentLoaded\", function () {\n",
    "      var stage = new NGL.Stage(\"viewport\");\n",
    "      stage.loadFile(\"file://./pdbs/clusters.pdb\", {defaultRepresentation: true});\n",
    "    });\n",
    "  </script>\n",
    "  <div id=\"viewport\" style=\"width:400px; height:300px;\"></div>'''))"
   ]
  },
  {
   "cell_type": "code",
   "execution_count": null,
   "metadata": {},
   "outputs": [],
   "source": [
    "from IPython.core.display import display, HTML\n",
    "display(HTML('''  <script src=\"https://unpkg.com/ngl\"></script>\n",
    "  <script>\n",
    "    document.addEventListener(\"DOMContentLoaded\", function () {\n",
    "      var stage = new NGL.Stage(\"viewport\");\n",
    "      stage.loadFile(\"file://../pdbs/clusters.pdb\", {defaultRepresentation: true});\n",
    "    });\n",
    "  </script>\n",
    "  <div id=\"viewport\" style=\"width:400px; height:300px;\"></div>'''))"
   ]
  },
  {
   "cell_type": "code",
   "execution_count": null,
   "metadata": {},
   "outputs": [],
   "source": [
    "from IPython.core.display import display, HTML\n",
    "display(HTML('''  <script src=\"https://unpkg.com/ngl\"></script>\n",
    "  <script>\n",
    "    document.addEventListener(\"DOMContentLoaded\", function () {\n",
    "      var stage = new NGL.Stage(\"viewport\");\n",
    "      stage.loadFile(\"file://preview.danie.lc/pdbs/clusters.pdb\", {defaultRepresentation: true});\n",
    "    });\n",
    "  </script>\n",
    "  <div id=\"viewport\" style=\"width:400px; height:300px;\"></div>'''))"
   ]
  },
  {
   "cell_type": "code",
   "execution_count": null,
   "metadata": {},
   "outputs": [],
   "source": [
    "from IPython.display import IFrame\n",
    "IFrame(src='./nice.html', width=700, height=600)"
   ]
  },
  {
   "cell_type": "code",
   "execution_count": null,
   "metadata": {},
   "outputs": [],
   "source": [
    "import nglview\n",
    "iwd = nglview.demo()\n",
    "#iwd.gui_style = \"ngl\"\n",
    "iwd"
   ]
  },
  {
   "cell_type": "code",
   "execution_count": null,
   "metadata": {},
   "outputs": [],
   "source": [
    "nglview.write_html('test.html', iwd)"
   ]
  }
 ],
 "metadata": {
  "kernelspec": {
   "display_name": "Python 3.9.13 64-bit",
   "language": "python",
   "name": "python3"
  },
  "language_info": {
   "name": "python",
   "version": "3.9.13"
  },
  "orig_nbformat": 4,
  "vscode": {
   "interpreter": {
    "hash": "b0fa6594d8f4cbf19f97940f81e996739fb7646882a419484c72d19e05852a7e"
   }
  }
 },
 "nbformat": 4,
 "nbformat_minor": 2
}
