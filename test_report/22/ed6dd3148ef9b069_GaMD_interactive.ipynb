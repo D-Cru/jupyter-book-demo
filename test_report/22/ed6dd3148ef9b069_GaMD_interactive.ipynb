{
 "cells": [
  {
   "cell_type": "markdown",
   "id": "8ec42798",
   "metadata": {},
   "source": [
    "# Interactive exploration\n",
    "In this part, we can interactively explore the structures found on the pca landscape.\n",
    "For this, press the {guilabel}`Live Code` button above and run the below cell."
   ]
  },
  {
   "cell_type": "code",
   "execution_count": 2,
   "id": "9e9f70a6",
   "metadata": {
    "tags": [
     "thebe-init",
     "hide-input"
    ]
   },
   "outputs": [],
   "source": [
    "import matplotlib\n",
    "%matplotlib widget\n",
    "import numpy as np\n",
    "import nglview as nv\n",
    "import pandas as pd\n",
    "import mdtraj as md\n",
    "import sklearn as sk\n",
    "import matplotlib.pyplot as plt\n",
    "\n",
    "def pickle_load(path):\n",
    "    \"\"\"Load object from pickle file, given by path\"\"\"\n",
    "    import pickle\n",
    "    with open(path, \"rb\") as f:\n",
    "        object = pickle.load(f)\n",
    "    return object\n",
    "\n",
    "\n",
    "def link_ngl_wdgt_to_ax_pos(ax, pos, ngl_widget):\n",
    "    \"\"\"source: https://github.com/gph82/nglview_notebooks\"\"\"\n",
    "    from matplotlib.widgets import AxesWidget\n",
    "    from scipy.spatial import cKDTree\n",
    "    r\"\"\"\n",
    "    Initial idea for this function comes from @arose, the rest is @gph82 and @clonker\n",
    "    \"\"\"\n",
    "\n",
    "    kdtree = cKDTree(pos)\n",
    "    assert ngl_widget.trajectory_0.n_frames == pos.shape[0]\n",
    "    x, y = pos.T\n",
    "\n",
    "    lineh = ax.axhline(ax.get_ybound()[0], c=\"black\", ls='--')\n",
    "    linev = ax.axvline(ax.get_xbound()[0], c=\"black\", ls='--')\n",
    "    dot, = ax.plot(pos[0,0],pos[0,1], 'o', c='red', ms=7)\n",
    "\n",
    "    ngl_widget.isClick = False\n",
    "\n",
    "    def onclick(event):\n",
    "        linev.set_xdata((event.xdata, event.xdata))\n",
    "        lineh.set_ydata((event.ydata, event.ydata))\n",
    "        data = [event.xdata, event.ydata]\n",
    "        _, index = kdtree.query(x=data, k=1)\n",
    "        dot.set_xdata((x[index]))\n",
    "        dot.set_ydata((y[index]))\n",
    "        ngl_widget.isClick = True\n",
    "        ngl_widget.frame = index\n",
    "\n",
    "    def my_observer(change):\n",
    "        r\"\"\"Here comes the code that you want to execute\n",
    "        \"\"\"\n",
    "        ngl_widget.isClick = False\n",
    "        _idx = change[\"new\"]\n",
    "        try:\n",
    "            dot.set_xdata((x[_idx]))\n",
    "            dot.set_ydata((y[_idx]))\n",
    "        except IndexError as e:\n",
    "            dot.set_xdata((x[0]))\n",
    "            dot.set_ydata((y[0]))\n",
    "            print(\"caught index error with index %s (new=%s, old=%s)\" % (_idx, change[\"new\"], change[\"old\"]))\n",
    "\n",
    "    # Connect axes to widget\n",
    "    axes_widget = AxesWidget(ax)\n",
    "    axes_widget.connect_event('button_release_event', onclick)\n",
    "\n",
    "    # Connect widget to axes\n",
    "    ngl_widget.observe(my_observer, \"frame\", \"change\")\n",
    "    \n",
    "\n",
    "folder = \"test_report/assets/22/\"\n",
    "topology = f\"{folder}mc_gas.prmtop\"\n",
    "trajectory = f\"{folder}ed6dd3148ef9b069_short-traj.netcdf\"\n",
    "dihedral_file = f\"{folder}ed6dd3148ef9b069_dihedrals.dat\"\n",
    "dpca_file = f\"{folder}ed6dd3148ef9b069_dPCA.dat\"\n",
    "weight_file = f\"{folder}ed6dd3148ef9b069_dPCA_weights_MC.dat\""
   ]
  },
  {
   "cell_type": "code",
   "execution_count": 3,
   "id": "794a84f7",
   "metadata": {
    "tags": [
     "thebe-init",
     "hide-input"
    ]
   },
   "outputs": [],
   "source": [
    "traj = md.load(trajectory, top=topology)\n",
    "# Plot dihedral PCA\n",
    "dihedrals = pickle_load(dihedral_file)\n",
    "dpca = pickle_load(dpca_file)\n",
    "weights = pickle_load(weight_file)\n",
    "pca_dihedrals = dpca.transform(dihedrals)"
   ]
  },
  {
   "cell_type": "code",
   "execution_count": 6,
   "id": "825681b4",
   "metadata": {
    "scrolled": false,
    "tags": [
     "thebe-init"
    ]
   },
   "outputs": [
    {
     "data": {
      "application/vnd.jupyter.widget-view+json": {
       "model_id": "e99a48e3a8aa4e2aa6d129c2449a96aa",
       "version_major": 2,
       "version_minor": 0
      },
      "text/plain": [
       "Canvas(toolbar=Toolbar(toolitems=[('Home', 'Reset original view', 'home', 'home'), ('Back', 'Back to previous …"
      ]
     },
     "metadata": {},
     "output_type": "display_data"
    },
    {
     "data": {
      "application/vnd.jupyter.widget-view+json": {
       "model_id": "1d08bc948bc848eba773ed4bd24701ce",
       "version_major": 2,
       "version_minor": 0
      },
      "text/plain": [
       "NGLWidget(max_frame=9999)"
      ]
     },
     "metadata": {},
     "output_type": "display_data"
    }
   ],
   "source": [
    "v = nv.show_mdtraj(traj)\n",
    "v.clear_representations()\n",
    "v.add_representation('licorice')\n",
    "fig, ax = plt.subplots()\n",
    "link_ngl_wdgt_to_ax_pos(ax, pca_dihedrals, v)\n",
    "ax = plt.scatter(pca_dihedrals[:,0], pca_dihedrals[:,1])\n",
    "v"
   ]
  },
  {
   "cell_type": "code",
   "execution_count": 5,
   "id": "dfe7edb3",
   "metadata": {
    "tags": [
     "thebe-init"
    ]
   },
   "outputs": [
    {
     "data": {
      "application/vnd.jupyter.widget-view+json": {
       "model_id": "39e5c0fc7fc947f28f1b1859887e9304",
       "version_major": 2,
       "version_minor": 0
      },
      "text/plain": [
       "NGLWidget(frame=2200, max_frame=9999)"
      ]
     },
     "metadata": {},
     "output_type": "display_data"
    }
   ],
   "source": []
  },
  {
   "cell_type": "code",
   "execution_count": null,
   "id": "31ee359f",
   "metadata": {},
   "outputs": [],
   "source": []
  }
 ],
 "metadata": {
  "celltoolbar": "Tags",
  "kernelspec": {
   "display_name": "Python 3 (ipykernel)",
   "language": "python",
   "name": "python3"
  },
  "language_info": {
   "codemirror_mode": {
    "name": "ipython",
    "version": 3
   },
   "file_extension": ".py",
   "mimetype": "text/x-python",
   "name": "python",
   "nbconvert_exporter": "python",
   "pygments_lexer": "ipython3",
   "version": "3.9.6"
  }
 },
 "nbformat": 4,
 "nbformat_minor": 5
}
